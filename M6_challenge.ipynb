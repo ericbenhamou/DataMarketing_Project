{
 "cells": [
  {
   "cell_type": "markdown",
   "metadata": {},
   "source": [
    "# Load libraries"
   ]
  },
  {
   "cell_type": "code",
   "execution_count": 1,
   "metadata": {},
   "outputs": [
    {
     "name": "stderr",
     "output_type": "stream",
     "text": [
      "C:\\Users\\David\\Anaconda3\\lib\\site-packages\\sklearn\\cross_validation.py:41: DeprecationWarning: This module was deprecated in version 0.18 in favor of the model_selection module into which all the refactored classes and functions are moved. Also note that the interface of the new CV iterators are different from that of this module. This module will be removed in 0.20.\n",
      "  \"This module will be removed in 0.20.\", DeprecationWarning)\n"
     ]
    }
   ],
   "source": [
    "# Load libraries\n",
    "import pandas as pd\n",
    "import numpy as np\n",
    "from pandas.tools.plotting import scatter_matrix\n",
    "import matplotlib.pyplot as plt  # for graphs\n",
    "# Modules for Model Evaluation\n",
    "from sklearn.cross_validation import train_test_split # for creating train and test datasets\n",
    "from sklearn import model_selection \n",
    "from sklearn.metrics import classification_report\n",
    "from sklearn.metrics import confusion_matrix\n",
    "from sklearn.metrics import accuracy_score\n",
    "from sklearn.cross_validation import cross_val_score  # for cross-validation\n",
    "from sklearn.metrics import roc_curve, auc\n",
    "### Modules for supervised ML\n",
    "from sklearn.linear_model import LogisticRegression\n",
    "from sklearn.tree import DecisionTreeClassifier\n",
    "from sklearn.naive_bayes import GaussianNB\n",
    "from sklearn.svm import SVC"
   ]
  },
  {
   "cell_type": "markdown",
   "metadata": {},
   "source": [
    "# import data"
   ]
  },
  {
   "cell_type": "code",
   "execution_count": 2,
   "metadata": {},
   "outputs": [
    {
     "name": "stderr",
     "output_type": "stream",
     "text": [
      "C:\\Users\\David\\Anaconda3\\lib\\site-packages\\IPython\\core\\interactiveshell.py:2698: DtypeWarning: Columns (2,11,13) have mixed types. Specify dtype option on import or set low_memory=False.\n",
      "  interactivity=interactivity, compiler=compiler, result=result)\n",
      "C:\\Users\\David\\Anaconda3\\lib\\site-packages\\IPython\\core\\interactiveshell.py:2698: DtypeWarning: Columns (3) have mixed types. Specify dtype option on import or set low_memory=False.\n",
      "  interactivity=interactivity, compiler=compiler, result=result)\n"
     ]
    }
   ],
   "source": [
    "#IMPORT DATA \n",
    "db_6play_original=pd.read_csv(\"Base 6play.csv\", delimiter=\";\", decimal=\",\")\n",
    "db_emissions=pd.read_csv(\"EMISSIONS.csv\", delimiter=\";\", decimal=\",\")"
   ]
  },
  {
   "cell_type": "code",
   "execution_count": 3,
   "metadata": {},
   "outputs": [
    {
     "name": "stdout",
     "output_type": "stream",
     "text": [
      "<class 'pandas.core.frame.DataFrame'>\n",
      "RangeIndex: 2824900 entries, 0 to 2824899\n",
      "Data columns (total 19 columns):\n",
      "uid                              object\n",
      "device                           object\n",
      "age                              object\n",
      "gender                           object\n",
      "loginprovider                    object\n",
      "year                             int64\n",
      "month                            int64\n",
      "recence                          int64\n",
      "rupture                          int64\n",
      "dureerelation                    float64\n",
      "frequence_utilisation            int64\n",
      "completion_rate_moy_mens         object\n",
      "preroll_rejection_freq           int64\n",
      "duree_moy_pgms_visionns          object\n",
      "duree_inter_session              object\n",
      "conso_par_mois_programme         int64\n",
      "part_temps_programme_par_mois    object\n",
      "NBRE_PROG_CONSOMMES              int64\n",
      "COHORTE                          object\n",
      "dtypes: float64(1), int64(8), object(10)\n",
      "memory usage: 409.5+ MB\n"
     ]
    }
   ],
   "source": [
    "db_6play = db_6play_original.copy()\n",
    "db_6play.info()"
   ]
  },
  {
   "cell_type": "markdown",
   "metadata": {},
   "source": [
    "# convert types"
   ]
  },
  {
   "cell_type": "code",
   "execution_count": 4,
   "metadata": {},
   "outputs": [
    {
     "name": "stdout",
     "output_type": "stream",
     "text": [
      "converted  age  succesfully!\n",
      "converted  dureerelation  succesfully!\n",
      "converted  completion_rate_moy_mens  succesfully!\n",
      "converted  duree_moy_pgms_visionns  succesfully!\n",
      "converted  duree_inter_session  succesfully!\n",
      "converted  part_temps_programme_par_mois  succesfully!\n"
     ]
    }
   ],
   "source": [
    "columns_to_numeric = [\n",
    "'age',\n",
    "'dureerelation',\n",
    "'completion_rate_moy_mens',\n",
    "'duree_moy_pgms_visionns',         \n",
    "'duree_inter_session',            \n",
    "'part_temps_programme_par_mois'    \n",
    "]\n",
    "    \n",
    "for column in columns_to_numeric:\n",
    "    db_6play[column] = pd.to_numeric( db_6play[column], errors='coerce' )\n",
    "    print(\"converted \", column, \" succesfully!\")\n",
    "                                       "
   ]
  },
  {
   "cell_type": "code",
   "execution_count": 5,
   "metadata": {},
   "outputs": [
    {
     "name": "stdout",
     "output_type": "stream",
     "text": [
      "converted  uid  succesfully!\n",
      "converted  device  succesfully!\n",
      "converted  gender  succesfully!\n",
      "converted  loginprovider  succesfully!\n",
      "converted  COHORTE  succesfully!\n"
     ]
    }
   ],
   "source": [
    "columns_to_string = [\n",
    "'uid',\n",
    "'device',\n",
    "'gender',\n",
    "'loginprovider',\n",
    "'COHORTE',\n",
    "]\n",
    "for column in columns_to_string:\n",
    "    db_6play[column].astype('str')\n",
    "    print(\"converted \", column, \" succesfully!\")\n"
   ]
  },
  {
   "cell_type": "code",
   "execution_count": 6,
   "metadata": {
    "collapsed": true
   },
   "outputs": [],
   "source": [
    "db_6play.fillna(0, inplace=True)\n",
    "#db_6play.head(3)"
   ]
  },
  {
   "cell_type": "code",
   "execution_count": 7,
   "metadata": {
    "collapsed": true
   },
   "outputs": [],
   "source": [
    "db_6play = db_6play.sort_values(['uid', 'year','month'])"
   ]
  },
  {
   "cell_type": "markdown",
   "metadata": {},
   "source": [
    "# We now groupby uid to have the last row and additional data: we count the number of period, the different duree_intee_session"
   ]
  },
  {
   "cell_type": "code",
   "execution_count": 8,
   "metadata": {},
   "outputs": [
    {
     "name": "stdout",
     "output_type": "stream",
     "text": [
      "This took  0:00:00.182485\n"
     ]
    }
   ],
   "source": [
    "from datetime import datetime\n",
    "start = datetime.now()\n",
    "new_data_frame = db_6play[:100000].copy().groupby('uid').last()\n",
    "print(\"This took \", datetime.now() - start)\n"
   ]
  },
  {
   "cell_type": "code",
   "execution_count": 9,
   "metadata": {},
   "outputs": [
    {
     "name": "stdout",
     "output_type": "stream",
     "text": [
      "32021\n",
      "32021\n"
     ]
    }
   ],
   "source": [
    "initial_size = 100000\n",
    "total_size = len(np.unique(db_6play[:initial_size]['uid'].values))\n",
    "print(total_size)\n",
    "print(new_data_frame.shape[0])"
   ]
  },
  {
   "cell_type": "code",
   "execution_count": 10,
   "metadata": {},
   "outputs": [
    {
     "data": {
      "text/html": [
       "<div>\n",
       "<style>\n",
       "    .dataframe thead tr:only-child th {\n",
       "        text-align: right;\n",
       "    }\n",
       "\n",
       "    .dataframe thead th {\n",
       "        text-align: left;\n",
       "    }\n",
       "\n",
       "    .dataframe tbody tr th {\n",
       "        vertical-align: top;\n",
       "    }\n",
       "</style>\n",
       "<table border=\"1\" class=\"dataframe\">\n",
       "  <thead>\n",
       "    <tr style=\"text-align: right;\">\n",
       "      <th></th>\n",
       "      <th>uid</th>\n",
       "      <th>device</th>\n",
       "      <th>age</th>\n",
       "      <th>gender</th>\n",
       "      <th>loginprovider</th>\n",
       "      <th>year</th>\n",
       "      <th>month</th>\n",
       "      <th>recence</th>\n",
       "      <th>rupture</th>\n",
       "      <th>dureerelation</th>\n",
       "      <th>frequence_utilisation</th>\n",
       "      <th>completion_rate_moy_mens</th>\n",
       "      <th>preroll_rejection_freq</th>\n",
       "      <th>duree_moy_pgms_visionns</th>\n",
       "      <th>duree_inter_session</th>\n",
       "      <th>conso_par_mois_programme</th>\n",
       "      <th>part_temps_programme_par_mois</th>\n",
       "      <th>NBRE_PROG_CONSOMMES</th>\n",
       "      <th>COHORTE</th>\n",
       "    </tr>\n",
       "  </thead>\n",
       "  <tbody>\n",
       "    <tr>\n",
       "      <th>0</th>\n",
       "      <td>00003b73e36d4bc294aaa7bfed444c0e</td>\n",
       "      <td>and</td>\n",
       "      <td>25.0</td>\n",
       "      <td>f</td>\n",
       "      <td>site</td>\n",
       "      <td>2016</td>\n",
       "      <td>12</td>\n",
       "      <td>83</td>\n",
       "      <td>1</td>\n",
       "      <td>725.991638</td>\n",
       "      <td>1</td>\n",
       "      <td>0.0</td>\n",
       "      <td>0</td>\n",
       "      <td>1442.0</td>\n",
       "      <td>0.0</td>\n",
       "      <td>224</td>\n",
       "      <td>100.0</td>\n",
       "      <td>1</td>\n",
       "      <td>DEC2015</td>\n",
       "    </tr>\n",
       "    <tr>\n",
       "      <th>1</th>\n",
       "      <td>00003b73e36d4bc294aaa7bfed444c0e</td>\n",
       "      <td>and</td>\n",
       "      <td>25.0</td>\n",
       "      <td>f</td>\n",
       "      <td>site</td>\n",
       "      <td>2017</td>\n",
       "      <td>1</td>\n",
       "      <td>83</td>\n",
       "      <td>1</td>\n",
       "      <td>725.991638</td>\n",
       "      <td>1</td>\n",
       "      <td>100.0</td>\n",
       "      <td>0</td>\n",
       "      <td>62.0</td>\n",
       "      <td>7.0</td>\n",
       "      <td>6893</td>\n",
       "      <td>100.0</td>\n",
       "      <td>1</td>\n",
       "      <td>DEC2015</td>\n",
       "    </tr>\n",
       "    <tr>\n",
       "      <th>2</th>\n",
       "      <td>0000723c120e4431a11d1adbc62f5d70</td>\n",
       "      <td>and</td>\n",
       "      <td>44.0</td>\n",
       "      <td>f</td>\n",
       "      <td>site</td>\n",
       "      <td>2016</td>\n",
       "      <td>10</td>\n",
       "      <td>150</td>\n",
       "      <td>1</td>\n",
       "      <td>294.993042</td>\n",
       "      <td>22</td>\n",
       "      <td>0.0</td>\n",
       "      <td>0</td>\n",
       "      <td>0.0</td>\n",
       "      <td>4.0</td>\n",
       "      <td>1</td>\n",
       "      <td>0.0</td>\n",
       "      <td>5</td>\n",
       "      <td>OCT2016</td>\n",
       "    </tr>\n",
       "    <tr>\n",
       "      <th>3</th>\n",
       "      <td>0000723c120e4431a11d1adbc62f5d70</td>\n",
       "      <td>and</td>\n",
       "      <td>44.0</td>\n",
       "      <td>f</td>\n",
       "      <td>site</td>\n",
       "      <td>2016</td>\n",
       "      <td>11</td>\n",
       "      <td>150</td>\n",
       "      <td>1</td>\n",
       "      <td>294.993042</td>\n",
       "      <td>1</td>\n",
       "      <td>0.0</td>\n",
       "      <td>1</td>\n",
       "      <td>59.0</td>\n",
       "      <td>1.0</td>\n",
       "      <td>0</td>\n",
       "      <td>0.0</td>\n",
       "      <td>1</td>\n",
       "      <td>OCT2016</td>\n",
       "    </tr>\n",
       "    <tr>\n",
       "      <th>4</th>\n",
       "      <td>0000882213654f18a7d642bd5009cc6f</td>\n",
       "      <td>and</td>\n",
       "      <td>45.0</td>\n",
       "      <td>m</td>\n",
       "      <td>site</td>\n",
       "      <td>2016</td>\n",
       "      <td>10</td>\n",
       "      <td>127</td>\n",
       "      <td>1</td>\n",
       "      <td>298.996521</td>\n",
       "      <td>1</td>\n",
       "      <td>0.0</td>\n",
       "      <td>1</td>\n",
       "      <td>72.0</td>\n",
       "      <td>0.0</td>\n",
       "      <td>0</td>\n",
       "      <td>0.0</td>\n",
       "      <td>1</td>\n",
       "      <td>MAI2016</td>\n",
       "    </tr>\n",
       "    <tr>\n",
       "      <th>5</th>\n",
       "      <td>0000882213654f18a7d642bd5009cc6f</td>\n",
       "      <td>and</td>\n",
       "      <td>45.0</td>\n",
       "      <td>m</td>\n",
       "      <td>site</td>\n",
       "      <td>2016</td>\n",
       "      <td>11</td>\n",
       "      <td>127</td>\n",
       "      <td>1</td>\n",
       "      <td>298.996521</td>\n",
       "      <td>1</td>\n",
       "      <td>0.0</td>\n",
       "      <td>1</td>\n",
       "      <td>2452.0</td>\n",
       "      <td>51.0</td>\n",
       "      <td>0</td>\n",
       "      <td>0.0</td>\n",
       "      <td>1</td>\n",
       "      <td>MAI2016</td>\n",
       "    </tr>\n",
       "    <tr>\n",
       "      <th>6</th>\n",
       "      <td>000098845644408882864e4f394d7b12</td>\n",
       "      <td>web</td>\n",
       "      <td>22.0</td>\n",
       "      <td>f</td>\n",
       "      <td>site</td>\n",
       "      <td>2016</td>\n",
       "      <td>10</td>\n",
       "      <td>0</td>\n",
       "      <td>0</td>\n",
       "      <td>804.992371</td>\n",
       "      <td>46</td>\n",
       "      <td>0.0</td>\n",
       "      <td>0</td>\n",
       "      <td>0.0</td>\n",
       "      <td>1.0</td>\n",
       "      <td>17809</td>\n",
       "      <td>0.0</td>\n",
       "      <td>6</td>\n",
       "      <td>NOV2015</td>\n",
       "    </tr>\n",
       "    <tr>\n",
       "      <th>7</th>\n",
       "      <td>000098845644408882864e4f394d7b12</td>\n",
       "      <td>and</td>\n",
       "      <td>22.0</td>\n",
       "      <td>f</td>\n",
       "      <td>site</td>\n",
       "      <td>2016</td>\n",
       "      <td>11</td>\n",
       "      <td>0</td>\n",
       "      <td>0</td>\n",
       "      <td>804.992371</td>\n",
       "      <td>12</td>\n",
       "      <td>0.0</td>\n",
       "      <td>0</td>\n",
       "      <td>0.0</td>\n",
       "      <td>2.0</td>\n",
       "      <td>3798</td>\n",
       "      <td>0.0</td>\n",
       "      <td>4</td>\n",
       "      <td>NOV2015</td>\n",
       "    </tr>\n",
       "    <tr>\n",
       "      <th>8</th>\n",
       "      <td>000098845644408882864e4f394d7b12</td>\n",
       "      <td>and</td>\n",
       "      <td>22.0</td>\n",
       "      <td>f</td>\n",
       "      <td>site</td>\n",
       "      <td>2016</td>\n",
       "      <td>12</td>\n",
       "      <td>0</td>\n",
       "      <td>0</td>\n",
       "      <td>804.992371</td>\n",
       "      <td>18</td>\n",
       "      <td>0.0</td>\n",
       "      <td>0</td>\n",
       "      <td>204.0</td>\n",
       "      <td>3.0</td>\n",
       "      <td>8557</td>\n",
       "      <td>0.0</td>\n",
       "      <td>2</td>\n",
       "      <td>NOV2015</td>\n",
       "    </tr>\n",
       "    <tr>\n",
       "      <th>9</th>\n",
       "      <td>000098845644408882864e4f394d7b12</td>\n",
       "      <td>web</td>\n",
       "      <td>22.0</td>\n",
       "      <td>f</td>\n",
       "      <td>site</td>\n",
       "      <td>2017</td>\n",
       "      <td>1</td>\n",
       "      <td>0</td>\n",
       "      <td>0</td>\n",
       "      <td>804.992371</td>\n",
       "      <td>5</td>\n",
       "      <td>0.0</td>\n",
       "      <td>0</td>\n",
       "      <td>136.0</td>\n",
       "      <td>17.0</td>\n",
       "      <td>6539</td>\n",
       "      <td>0.0</td>\n",
       "      <td>3</td>\n",
       "      <td>NOV2015</td>\n",
       "    </tr>\n",
       "  </tbody>\n",
       "</table>\n",
       "</div>"
      ],
      "text/plain": [
       "                                uid device   age gender loginprovider  year  \\\n",
       "0  00003b73e36d4bc294aaa7bfed444c0e    and  25.0      f          site  2016   \n",
       "1  00003b73e36d4bc294aaa7bfed444c0e    and  25.0      f          site  2017   \n",
       "2  0000723c120e4431a11d1adbc62f5d70    and  44.0      f          site  2016   \n",
       "3  0000723c120e4431a11d1adbc62f5d70    and  44.0      f          site  2016   \n",
       "4  0000882213654f18a7d642bd5009cc6f    and  45.0      m          site  2016   \n",
       "5  0000882213654f18a7d642bd5009cc6f    and  45.0      m          site  2016   \n",
       "6  000098845644408882864e4f394d7b12    web  22.0      f          site  2016   \n",
       "7  000098845644408882864e4f394d7b12    and  22.0      f          site  2016   \n",
       "8  000098845644408882864e4f394d7b12    and  22.0      f          site  2016   \n",
       "9  000098845644408882864e4f394d7b12    web  22.0      f          site  2017   \n",
       "\n",
       "   month  recence  rupture  dureerelation  frequence_utilisation  \\\n",
       "0     12       83        1     725.991638                      1   \n",
       "1      1       83        1     725.991638                      1   \n",
       "2     10      150        1     294.993042                     22   \n",
       "3     11      150        1     294.993042                      1   \n",
       "4     10      127        1     298.996521                      1   \n",
       "5     11      127        1     298.996521                      1   \n",
       "6     10        0        0     804.992371                     46   \n",
       "7     11        0        0     804.992371                     12   \n",
       "8     12        0        0     804.992371                     18   \n",
       "9      1        0        0     804.992371                      5   \n",
       "\n",
       "   completion_rate_moy_mens  preroll_rejection_freq  duree_moy_pgms_visionns  \\\n",
       "0                       0.0                       0                   1442.0   \n",
       "1                     100.0                       0                     62.0   \n",
       "2                       0.0                       0                      0.0   \n",
       "3                       0.0                       1                     59.0   \n",
       "4                       0.0                       1                     72.0   \n",
       "5                       0.0                       1                   2452.0   \n",
       "6                       0.0                       0                      0.0   \n",
       "7                       0.0                       0                      0.0   \n",
       "8                       0.0                       0                    204.0   \n",
       "9                       0.0                       0                    136.0   \n",
       "\n",
       "   duree_inter_session  conso_par_mois_programme  \\\n",
       "0                  0.0                       224   \n",
       "1                  7.0                      6893   \n",
       "2                  4.0                         1   \n",
       "3                  1.0                         0   \n",
       "4                  0.0                         0   \n",
       "5                 51.0                         0   \n",
       "6                  1.0                     17809   \n",
       "7                  2.0                      3798   \n",
       "8                  3.0                      8557   \n",
       "9                 17.0                      6539   \n",
       "\n",
       "   part_temps_programme_par_mois  NBRE_PROG_CONSOMMES  COHORTE  \n",
       "0                          100.0                    1  DEC2015  \n",
       "1                          100.0                    1  DEC2015  \n",
       "2                            0.0                    5  OCT2016  \n",
       "3                            0.0                    1  OCT2016  \n",
       "4                            0.0                    1  MAI2016  \n",
       "5                            0.0                    1  MAI2016  \n",
       "6                            0.0                    6  NOV2015  \n",
       "7                            0.0                    4  NOV2015  \n",
       "8                            0.0                    2  NOV2015  \n",
       "9                            0.0                    3  NOV2015  "
      ]
     },
     "execution_count": 10,
     "metadata": {},
     "output_type": "execute_result"
    }
   ],
   "source": [
    "db_6play.head(10)"
   ]
  },
  {
   "cell_type": "code",
   "execution_count": 11,
   "metadata": {},
   "outputs": [],
   "source": [
    "#np.column_stack(( new_data_frame.columns.values, np.arange(len(new_data_frame.columns))))"
   ]
  },
  {
   "cell_type": "markdown",
   "metadata": {},
   "source": [
    "# remove categorical"
   ]
  },
  {
   "cell_type": "code",
   "execution_count": 12,
   "metadata": {
    "collapsed": true
   },
   "outputs": [],
   "source": [
    "# we check the version of pandas\n",
    "if float(pd.__version__[:4])< 0.22:\n",
    "    new_data_frame = new_data_frame.drop('COHORTE', axis = 1)\n",
    "else:\n",
    "    new_data_frame = new_data_frame.drop( columns=['COHORTE'])"
   ]
  },
  {
   "cell_type": "code",
   "execution_count": 13,
   "metadata": {},
   "outputs": [
    {
     "name": "stdout",
     "output_type": "stream",
     "text": [
      "shape (32021, 17)\n",
      "\n",
      "---  device \n",
      ":  web    15911\n",
      "and     6853\n",
      "ipa     4926\n",
      "iph     4331\n",
      "Name: device, dtype: int64\n",
      "\n",
      "---  gender \n",
      ":  f    23170\n",
      "m     8828\n",
      "u       21\n",
      "N        2\n",
      "Name: gender, dtype: int64\n",
      "\n",
      "---  loginprovider \n",
      ":  site          30579\n",
      "facebook       1251\n",
      "googleplus      191\n",
      "Name: loginprovider, dtype: int64\n"
     ]
    }
   ],
   "source": [
    "print( 'shape', new_data_frame.shape )\n",
    "categorical_columns = ['device','gender','loginprovider']\n",
    "for column in categorical_columns:\n",
    "    print('\\n--- ', column, '\\n: ', new_data_frame[column].value_counts())"
   ]
  },
  {
   "cell_type": "code",
   "execution_count": 14,
   "metadata": {},
   "outputs": [
    {
     "data": {
      "text/plain": [
       "Index(['device', 'age', 'gender', 'loginprovider', 'year', 'month', 'recence',\n",
       "       'rupture', 'dureerelation', 'frequence_utilisation',\n",
       "       'completion_rate_moy_mens', 'preroll_rejection_freq',\n",
       "       'duree_moy_pgms_visionns', 'duree_inter_session',\n",
       "       'conso_par_mois_programme', 'part_temps_programme_par_mois',\n",
       "       'NBRE_PROG_CONSOMMES'],\n",
       "      dtype='object')"
      ]
     },
     "execution_count": 14,
     "metadata": {},
     "output_type": "execute_result"
    }
   ],
   "source": [
    "new_data_frame = new_data_frame[ (new_data_frame.gender == 'f') | (new_data_frame.gender == 'm')]\n",
    "new_data_frame.columns"
   ]
  },
  {
   "cell_type": "code",
   "execution_count": 15,
   "metadata": {},
   "outputs": [
    {
     "name": "stdout",
     "output_type": "stream",
     "text": [
      "done with categorical\n",
      "(31998, 23)\n",
      "Index(['age', 'year', 'month', 'recence', 'rupture', 'dureerelation',\n",
      "       'frequence_utilisation', 'completion_rate_moy_mens',\n",
      "       'preroll_rejection_freq', 'duree_moy_pgms_visionns',\n",
      "       'duree_inter_session', 'conso_par_mois_programme',\n",
      "       'part_temps_programme_par_mois', 'NBRE_PROG_CONSOMMES', 'gender_and',\n",
      "       'gender_ipa', 'gender_iph', 'gender_web', 'gender_f', 'gender_m',\n",
      "       'gender_facebook', 'gender_googleplus', 'gender_site'],\n",
      "      dtype='object')\n"
     ]
    }
   ],
   "source": [
    "new_data_frame = pd.get_dummies(new_data_frame, prefix= 'gender')\n",
    "print('done with categorical')\n",
    "print( new_data_frame.shape )\n",
    "print( new_data_frame.columns )\n"
   ]
  },
  {
   "cell_type": "code",
   "execution_count": 16,
   "metadata": {},
   "outputs": [
    {
     "data": {
      "text/plain": [
       "(31998, 22)"
      ]
     },
     "execution_count": 16,
     "metadata": {},
     "output_type": "execute_result"
    }
   ],
   "source": [
    "X_columns = [ 'age', 'gender', 'year', 'month', 'recence',\n",
    "       'rupture', 'dureerelation', 'frequence_utilisation',\n",
    "       'completion_rate_moy_mens', 'preroll_rejection_freq',\n",
    "       'duree_moy_pgms_visionns', 'duree_inter_session',\n",
    "       'conso_par_mois_programme', 'part_temps_programme_par_mois',\n",
    "       'NBRE_PROG_CONSOMMES', 'gender_f', 'gender_m']\n",
    "\n",
    "X = new_data_frame.copy()\n",
    "if float(pd.__version__[:4])< 0.22:\n",
    "    X = X.drop( 'rupture',axis=1)\n",
    "else:\n",
    "    X = X.drop( columns=['rupture'])\n",
    "\n",
    "X.shape"
   ]
  },
  {
   "cell_type": "code",
   "execution_count": 17,
   "metadata": {},
   "outputs": [
    {
     "data": {
      "text/plain": [
       "(31998,)"
      ]
     },
     "execution_count": 17,
     "metadata": {},
     "output_type": "execute_result"
    }
   ],
   "source": [
    "y = new_data_frame['rupture']\n",
    "y.shape"
   ]
  },
  {
   "cell_type": "markdown",
   "metadata": {},
   "source": [
    "# train the model"
   ]
  },
  {
   "cell_type": "code",
   "execution_count": 18,
   "metadata": {},
   "outputs": [
    {
     "name": "stdout",
     "output_type": "stream",
     "text": [
      "(22398, 22)\n",
      "(22398, 22)\n",
      "(22398, 22)\n",
      "(22398, 22)\n"
     ]
    }
   ],
   "source": [
    "# split data into train and test sets\n",
    "X_train, X_test, y_train, y_test = train_test_split(X, y, test_size=0.30, random_state=7)\n",
    "\n",
    "print(X_train.shape)\n",
    "print(X_train.shape)\n",
    "print(X_train.shape)\n",
    "print(X_train.shape)\n"
   ]
  },
  {
   "cell_type": "code",
   "execution_count": 19,
   "metadata": {},
   "outputs": [
    {
     "name": "stdout",
     "output_type": "stream",
     "text": [
      "(22398, 22)\n",
      "(9600, 22)\n",
      "(22398,)\n",
      "(9600,)\n"
     ]
    }
   ],
   "source": [
    "print(X_train.shape)\n",
    "print(X_test.shape)\n",
    "print(y_train.shape)\n",
    "print(y_test.shape)"
   ]
  },
  {
   "cell_type": "code",
   "execution_count": 20,
   "metadata": {},
   "outputs": [
    {
     "name": "stdout",
     "output_type": "stream",
     "text": [
      "Results: 1.00 (0.00) MSE\n"
     ]
    },
    {
     "data": {
      "text/plain": [
       "LogisticRegression(C=1.0, class_weight=None, dual=False, fit_intercept=True,\n",
       "          intercept_scaling=1, max_iter=100, multi_class='ovr', n_jobs=1,\n",
       "          penalty='l2', random_state=None, solver='liblinear', tol=0.0001,\n",
       "          verbose=0, warm_start=False)"
      ]
     },
     "execution_count": 20,
     "metadata": {},
     "output_type": "execute_result"
    }
   ],
   "source": [
    "from sklearn.linear_model import LogisticRegression\n",
    "from sklearn.model_selection import KFold\n",
    "\n",
    "\n",
    "seed = 42\n",
    "log_reg = LogisticRegression()\n",
    "kfold = KFold(n_splits=10, random_state=seed)\n",
    "results = cross_val_score(log_reg, X_train, y_train, cv=10)\n",
    "print(\"Results: %.2f (%.2f) MSE\" % (results.mean(), results.std()))\n",
    "\n",
    "log_reg.fit(X_train,y_train)"
   ]
  },
  {
   "cell_type": "code",
   "execution_count": 21,
   "metadata": {},
   "outputs": [
    {
     "name": "stdout",
     "output_type": "stream",
     "text": [
      "0.999270833333  we got a score of 99%, this is very good\n"
     ]
    }
   ],
   "source": [
    "y_pred = log_reg.predict(X_test)\n",
    "print(accuracy_score(y_test,y_pred ), ' we got a score of 99%, this is very good')"
   ]
  },
  {
   "cell_type": "code",
   "execution_count": 22,
   "metadata": {},
   "outputs": [
    {
     "data": {
      "text/plain": [
       "RandomForestClassifier(bootstrap=True, class_weight=None, criterion='gini',\n",
       "            max_depth=None, max_features='auto', max_leaf_nodes=None,\n",
       "            min_impurity_decrease=0.0, min_impurity_split=None,\n",
       "            min_samples_leaf=1, min_samples_split=2,\n",
       "            min_weight_fraction_leaf=0.0, n_estimators=10, n_jobs=1,\n",
       "            oob_score=False, random_state=None, verbose=0,\n",
       "            warm_start=False)"
      ]
     },
     "execution_count": 22,
     "metadata": {},
     "output_type": "execute_result"
    }
   ],
   "source": [
    "# do a random forest\n",
    "from sklearn.ensemble import RandomForestClassifier\n",
    "rfc = RandomForestClassifier()\n",
    "rfc.fit(X_train, y_train)"
   ]
  },
  {
   "cell_type": "code",
   "execution_count": 23,
   "metadata": {},
   "outputs": [
    {
     "name": "stdout",
     "output_type": "stream",
     "text": [
      "1.0  we got a score of 99%, this is very good\n"
     ]
    }
   ],
   "source": [
    "y_pred2 = rfc.predict(X_test)\n",
    "print(accuracy_score(y_test,y_pred2 ), ' we got a score of 99%, this is very good')"
   ]
  },
  {
   "cell_type": "code",
   "execution_count": 24,
   "metadata": {},
   "outputs": [
    {
     "data": {
      "image/png": "[encoded data removed]",
      "text/plain": [
       "<matplotlib.figure.Figure at 0x1ff32d4b780>"
      ]
     },
     "metadata": {},
     "output_type": "display_data"
    }
   ],
   "source": [
    "features = X.columns\n",
    "importances = rfc.feature_importances_\n",
    "indices = np.argsort(importances)\n",
    "\n",
    "plt.title('Feature Importances')\n",
    "plt.barh(range(len(indices)), importances[indices], color='b', align='center')\n",
    "plt.yticks(range(len(indices)), features[indices])\n",
    "plt.xlabel('Relative Importance')\n",
    "plt.show()\n"
   ]
  },
  {
   "cell_type": "code",
   "execution_count": 25,
   "metadata": {
    "collapsed": true
   },
   "outputs": [],
   "source": [
    "#keras expects model inputs to be numpy arrays - not pandas.DataFrames. \n",
    "X_train=X_train.as_matrix()\n",
    "y_train=y_train.as_matrix()\n",
    "X_test=X_test.as_matrix()\n",
    "y_test=y_test.as_matrix()\n",
    "#As as_matrix method converts pandas.DataFrame to a numpy.array."
   ]
  },
  {
   "cell_type": "code",
   "execution_count": 26,
   "metadata": {},
   "outputs": [
    {
     "name": "stderr",
     "output_type": "stream",
     "text": [
      "Using TensorFlow backend.\n"
     ]
    },
    {
     "name": "stdout",
     "output_type": "stream",
     "text": [
      "Epoch 1/30\n",
      " - 2s - loss: 8.1029 - acc: 0.4973\n",
      "Epoch 2/30\n",
      " - 1s - loss: 8.1022 - acc: 0.4973\n",
      "Epoch 3/30\n",
      " - 1s - loss: 8.1022 - acc: 0.4973\n",
      "Epoch 4/30\n",
      " - 1s - loss: 8.1022 - acc: 0.4973\n",
      "Epoch 5/30\n",
      " - 1s - loss: 8.1022 - acc: 0.4973\n",
      "Epoch 6/30\n",
      " - 1s - loss: 8.1022 - acc: 0.4973\n",
      "Epoch 7/30\n",
      " - 1s - loss: 8.1022 - acc: 0.4973\n",
      "Epoch 8/30\n",
      " - 1s - loss: 8.1022 - acc: 0.4973\n",
      "Epoch 9/30\n",
      " - 1s - loss: 8.1022 - acc: 0.4973\n",
      "Epoch 10/30\n",
      " - 1s - loss: 8.1022 - acc: 0.4973\n",
      "Epoch 11/30\n",
      " - 1s - loss: 8.1022 - acc: 0.4973\n",
      "Epoch 12/30\n",
      " - 1s - loss: 8.1022 - acc: 0.4973\n",
      "Epoch 13/30\n",
      " - 1s - loss: 8.1022 - acc: 0.4973\n",
      "Epoch 14/30\n",
      " - 1s - loss: 8.1022 - acc: 0.4973\n",
      "Epoch 15/30\n",
      " - 1s - loss: 8.1022 - acc: 0.4973\n",
      "Epoch 16/30\n",
      " - 1s - loss: 8.1022 - acc: 0.4973\n",
      "Epoch 17/30\n",
      " - 1s - loss: 8.1022 - acc: 0.4973\n",
      "Epoch 18/30\n",
      " - 1s - loss: 8.1022 - acc: 0.4973\n",
      "Epoch 19/30\n",
      " - 1s - loss: 8.1022 - acc: 0.4973\n",
      "Epoch 20/30\n",
      " - 1s - loss: 8.1022 - acc: 0.4973\n",
      "Epoch 21/30\n",
      " - 1s - loss: 8.1022 - acc: 0.4973\n",
      "Epoch 22/30\n",
      " - 1s - loss: 8.1022 - acc: 0.4973\n",
      "Epoch 23/30\n",
      " - 1s - loss: 8.1022 - acc: 0.4973\n",
      "Epoch 24/30\n",
      " - 1s - loss: 8.1022 - acc: 0.4973\n",
      "Epoch 25/30\n",
      " - 1s - loss: 8.1022 - acc: 0.4973\n",
      "Epoch 26/30\n",
      " - 1s - loss: 8.1022 - acc: 0.4973\n",
      "Epoch 27/30\n",
      " - 1s - loss: 8.1022 - acc: 0.4973\n",
      "Epoch 28/30\n",
      " - 1s - loss: 8.1022 - acc: 0.4973\n",
      "Epoch 29/30\n",
      " - 1s - loss: 8.1022 - acc: 0.4973\n",
      "Epoch 30/30\n",
      " - 1s - loss: 8.1022 - acc: 0.4973\n",
      "_________________________________________________________________\n",
      "Layer (type)                 Output Shape              Param #   \n",
      "=================================================================\n",
      "dense_1 (Dense)              (None, 30)                690       \n",
      "_________________________________________________________________\n",
      "dense_2 (Dense)              (None, 30)                930       \n",
      "_________________________________________________________________\n",
      "dense_3 (Dense)              (None, 30)                930       \n",
      "_________________________________________________________________\n",
      "dense_4 (Dense)              (None, 1)                 31        \n",
      "=================================================================\n",
      "Total params: 2,581\n",
      "Trainable params: 2,581\n",
      "Non-trainable params: 0\n",
      "_________________________________________________________________\n",
      "None\n"
     ]
    }
   ],
   "source": [
    "from keras.models import Sequential\n",
    "from keras.layers import Dense\n",
    "model = Sequential()\n",
    "model.add(Dense(30, input_dim=X_train.shape[1], activation='relu'))\n",
    "model.add(Dense(30, activation='relu'))\n",
    "model.add(Dense(30, activation='relu'))\n",
    "model.add(Dense(1, activation='sigmoid'))\n",
    "model.compile(loss='binary_crossentropy', optimizer='adam', metrics=['accuracy'])\n",
    "model.fit(X_train, y_train, epochs=30, batch_size=20, verbose=2)\n",
    "print(model.summary())"
   ]
  },
  {
   "cell_type": "code",
   "execution_count": 27,
   "metadata": {},
   "outputs": [
    {
     "name": "stdout",
     "output_type": "stream",
     "text": [
      "Model Accuracy: 50.25%\n"
     ]
    }
   ],
   "source": [
    "# summarize performance of the model\n",
    "scores = model.evaluate(X_test, y_test, verbose=0)\n",
    "print(\"Model Accuracy: %.2f%%\" % (scores[1]*100))"
   ]
  },
  {
   "cell_type": "code",
   "execution_count": 28,
   "metadata": {},
   "outputs": [
    {
     "name": "stdout",
     "output_type": "stream",
     "text": [
      "Epoch 1/1\n",
      "22398/22398 [==============================] - 1s 44us/step - loss: 8.1022 - acc: 0.4973\n"
     ]
    }
   ],
   "source": [
    "model.fit(X_train, y_train)\n",
    "prediction = model.predict(X_test)"
   ]
  },
  {
   "cell_type": "code",
   "execution_count": 29,
   "metadata": {},
   "outputs": [
    {
     "data": {
      "text/plain": [
       "4824"
      ]
     },
     "execution_count": 29,
     "metadata": {},
     "output_type": "execute_result"
    }
   ],
   "source": [
    "accuracy_score(y_test, prediction.round(), normalize=False)"
   ]
  },
  {
   "cell_type": "code",
   "execution_count": 30,
   "metadata": {},
   "outputs": [
    {
     "data": {
      "text/plain": [
       "(9600, 1)"
      ]
     },
     "execution_count": 30,
     "metadata": {},
     "output_type": "execute_result"
    }
   ],
   "source": [
    "model.predict_proba(X_test).shape"
   ]
  },
  {
   "cell_type": "code",
   "execution_count": 31,
   "metadata": {},
   "outputs": [
    {
     "data": {
      "image/png": "[encoded data removed]",
      "text/plain": [
       "<matplotlib.figure.Figure at 0x1ff7004fba8>"
      ]
     },
     "metadata": {},
     "output_type": "display_data"
    }
   ],
   "source": [
    "from sklearn.metrics import roc_curve, auc\n",
    "import matplotlib.pyplot as plt\n",
    "plt.style.use('ggplot')\n",
    "%matplotlib inline\n",
    "\n",
    "def plot_roc_curve(my_model, index, modelname = \"\"):\n",
    "    y_predict_probabilities = my_model.predict_proba(X_test)[:,index]\n",
    "    fpr_, tpr_, _ = roc_curve(y_test, y_predict_probabilities)\n",
    "    roc_auc_ = auc(fpr_, tpr_)\n",
    "\n",
    "    plt.figure()\n",
    "    plt.plot(fpr_, tpr_, color='green',\n",
    "             lw=2, label='ROC Curve Logit (area = %0.2f)' % roc_auc_)\n",
    "    plt.plot([0, 1], [0, 1], color='navy', lw=2, linestyle='--')\n",
    "    plt.xlim([0.0, 1.0])\n",
    "    plt.ylim([0.0, 1.05])\n",
    "    plt.xlabel('False Positive Rate')\n",
    "    plt.ylabel('True Positive Rate')\n",
    "    if modelname == \"\":\n",
    "        modelname = str(type(my_model)).split('.')[-1][:-2]\n",
    "    plt.title('ROC Curve for ' + modelname )\n",
    "    plt.legend(loc=\"lower right\")\n",
    "    plt.show()\n",
    "\n",
    "plot_roc_curve(model,0, ' Deep network')"
   ]
  },
  {
   "cell_type": "code",
   "execution_count": 32,
   "metadata": {},
   "outputs": [
    {
     "data": {
      "image/png": "[encoded data removed]",
      "text/plain": [
       "<matplotlib.figure.Figure at 0x1ff71575e48>"
      ]
     },
     "metadata": {},
     "output_type": "display_data"
    }
   ],
   "source": [
    "plot_roc_curve(log_reg, 1)"
   ]
  },
  {
   "cell_type": "code",
   "execution_count": 33,
   "metadata": {},
   "outputs": [
    {
     "data": {
      "image/png": "[encoded data removed]",
      "text/plain": [
       "<matplotlib.figure.Figure at 0x1ff715fb908>"
      ]
     },
     "metadata": {},
     "output_type": "display_data"
    }
   ],
   "source": [
    "plot_roc_curve(rfc, 1)"
   ]
  },
  {
   "cell_type": "code",
   "execution_count": 34,
   "metadata": {},
   "outputs": [
    {
     "data": {
      "image/png": "[encoded data removed]",
      "text/plain": [
       "<matplotlib.figure.Figure at 0x1ff7158aba8>"
      ]
     },
     "metadata": {},
     "output_type": "display_data"
    }
   ],
   "source": [
    "a=db_emissions['prgm_title'].value_counts()\n",
    "len(a)\n",
    "b=np.arange(0,len(a))\n",
    "a\n",
    "plt.plot(b,a)\n",
    "plt.xlabel('Emissions')\n",
    "plt.ylabel('Vues')\n",
    "plt.show()\n",
    "\n",
    "def part_de_marche(n):\n",
    "    b=0\n",
    "    for i in range(n):\n",
    "        b+=a[i]\n",
    "    #print('pourcentage de vues avec ',n, 'emissions : ',b/sum(a))\n",
    "    return(b)\n",
    "\n",
    "\n",
    "def plot_part_marche(p):\n",
    "    \n",
    "    aa=np.arange(0,p)\n",
    "    m=0\n",
    "    for i in range(p):\n",
    "        aa[m]= part_de_marche(i)\n",
    "        m+=1\n",
    "    plt.plot(np.arange(0,p),aa/sum(a), color='b')\n",
    "    plt.axhline(y=0.9, color='r', linestyle='-')\n",
    "    plt.show()"
   ]
  },
  {
   "cell_type": "code",
   "execution_count": 35,
   "metadata": {},
   "outputs": [
    {
     "data": {
      "image/png": "[encoded data removed]",
      "text/plain": [
       "<matplotlib.figure.Figure at 0x1ff71543cf8>"
      ]
     },
     "metadata": {},
     "output_type": "display_data"
    }
   ],
   "source": [
    "plot_part_marche(150)"
   ]
  }
 ],
 "metadata": {
  "kernelspec": {
   "display_name": "Python 3",
   "language": "python",
   "name": "python3"
  },
  "language_info": {
   "codemirror_mode": {
    "name": "ipython",
    "version": 3
   },
   "file_extension": ".py",
   "mimetype": "text/x-python",
   "name": "python",
   "nbconvert_exporter": "python",
   "pygments_lexer": "ipython3",
   "version": "3.6.2"
  }
 },
 "nbformat": 4,
 "nbformat_minor": 2
}
